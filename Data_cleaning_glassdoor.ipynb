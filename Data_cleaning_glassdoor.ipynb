{
  "nbformat": 4,
  "nbformat_minor": 0,
  "metadata": {
    "colab": {
      "name": "DataCleaning01.ipynb",
      "provenance": [],
      "collapsed_sections": []
    },
    "kernelspec": {
      "name": "python3",
      "display_name": "Python 3"
    },
    "language_info": {
      "name": "python"
    }
  },
  "cells": [
    {
      "cell_type": "code",
      "metadata": {
        "id": "Q6Acgxo9WFEJ"
      },
      "source": [
        "import matplotlib.pyplot as plt\n",
        "import numpy as np\n",
        "import pandas as pd\n",
        "import seaborn as sns\n",
        "import os\n"
      ],
      "execution_count": 5,
      "outputs": []
    },
    {
      "cell_type": "code",
      "metadata": {
        "id": "bMZz-Eh9WzKI"
      },
      "source": [
        "df=pd.read_csv('glassdoor_jobs.csv')\n",
        "df.head()"
      ],
      "execution_count": null,
      "outputs": []
    },
    {
      "cell_type": "code",
      "metadata": {
        "id": "RL7HKuS1Xgfv"
      },
      "source": [
        "#data clense :\n",
        "#clean salary and make then int\n",
        "\n",
        "#slary parsing \n",
        "#removing all the -1 values from glass dataset \n",
        "df=df[df['Salary Estimate']!= '-1']\n",
        "df\n",
        "\n",
        "\n"
      ],
      "execution_count": null,
      "outputs": []
    },
    {
      "cell_type": "code",
      "metadata": {
        "id": "wM9ggu4NeUE1"
      },
      "source": [
        "#the variable salary will have all the numeric values :\n",
        "\n",
        "salary = df['Salary Estimate'].apply(lambda x:x.split(\"(\")[0])\n",
        "salary"
      ],
      "execution_count": null,
      "outputs": []
    },
    {
      "cell_type": "code",
      "metadata": {
        "id": "BwqGPsldgZBz"
      },
      "source": [
        "#remove the $ sign :\n",
        "\n",
        "remove_kd=salary.apply(lambda x : x.replace('K', ' ').replace('$',' '))\n",
        "for i in remove_kd:\n",
        "  print(i)"
      ],
      "execution_count": null,
      "outputs": []
    },
    {
      "cell_type": "code",
      "metadata": {
        "id": "hE20as8VoxQL"
      },
      "source": [
        "#removing \"per hour\"  from remove_kd\n",
        "removed_per_hour=remove_kd.apply(lambda x: x.lower().replace('per hour', ' '))\n",
        "\n",
        "for i in removed_per_hour:\n",
        "  print(i)"
      ],
      "execution_count": null,
      "outputs": []
    },
    {
      "cell_type": "code",
      "metadata": {
        "id": "QxCvv3VWpkXq"
      },
      "source": [
        "#removing ' employer provided salary:' from removed_per_hour:\n",
        "removed_EPS= removed_per_hour.apply(lambda x:x.lower().replace('employer provided salary:', ''))\n",
        "\n",
        "\n",
        "for i in removed_EPS:\n",
        "  print(i)\n"
      ],
      "execution_count": null,
      "outputs": []
    },
    {
      "cell_type": "code",
      "metadata": {
        "id": "JC1nZUdpCBXj"
      },
      "source": [
        "removed_EPS\n",
        "\n",
        "#now make a new col with min slary and max salary ::\n",
        "\n",
        "df['min_salary']=removed_EPS.apply(lambda x : int(x.split('-')[0]))\n",
        "\n",
        "\n"
      ],
      "execution_count": 12,
      "outputs": []
    },
    {
      "cell_type": "code",
      "metadata": {
        "id": "ocYa9bj5CrDs"
      },
      "source": [
        "#make a new col of max salary ::\n",
        "\n",
        "df['max_salary']=removed_EPS.apply(lambda x : int(x.split('-')[1]))\n"
      ],
      "execution_count": 13,
      "outputs": []
    },
    {
      "cell_type": "code",
      "metadata": {
        "id": "vCVqDP4HC6ts"
      },
      "source": [
        "#make a col for avg salary ::\n",
        "\n",
        "df['avg_salary']=(df.min_salary+df.max_salary)/2"
      ],
      "execution_count": 14,
      "outputs": []
    },
    {
      "cell_type": "code",
      "metadata": {
        "id": "5YN_ntxCDdKd"
      },
      "source": [
        "#making a new column with the state of jobs :\n",
        "df['job_state']=df['Location'].apply(lambda x: x.split(',')[1])\n",
        "df\n"
      ],
      "execution_count": null,
      "outputs": []
    },
    {
      "cell_type": "code",
      "metadata": {
        "id": "xkfOLHmdcIy5"
      },
      "source": [
        "#total jobs in each state :: \n",
        "print(\"Total jobs in each state :: \")\n",
        "print(df.job_state.value_counts())"
      ],
      "execution_count": null,
      "outputs": []
    },
    {
      "cell_type": "code",
      "metadata": {
        "id": "q1vWrVf2nfx_"
      },
      "source": [
        "#making a new colum\n",
        "#if there is an 'per hour' in salary estimate then df[\"Hourly\"]==1 else df[\"Hourly\"]==0\n",
        "df['Hourly']=df['Salary Estimate'].apply(lambda x: 1 if 'per hour' in x.lower() else 0)\n",
        "df"
      ],
      "execution_count": null,
      "outputs": []
    },
    {
      "cell_type": "code",
      "metadata": {
        "id": "-fDg8Oy_pz2r"
      },
      "source": [
        "#if the Salary estimate column has a value == employer provided then df[employer provided] ==1]\n",
        "#else df[employer provided]==0\n",
        "\n",
        "#function to append 1 if employer provided else append 0:::\n",
        "def new_col_employer_provided():\n",
        "  emp=[]\n",
        "  for i in df['Salary Estimate']:\n",
        "    if 'employer provided salary:' in i.lower():\n",
        "      emp.append(1)\n",
        "    else :\n",
        "      emp.append(0)\n",
        "  return emp\n",
        "\n",
        "\n",
        "#function calling ::\n",
        "function_result = new_col_employer_provided()\n",
        "df['employer provided']=function_result\n",
        "\n"
      ],
      "execution_count": 17,
      "outputs": []
    },
    {
      "cell_type": "code",
      "metadata": {
        "id": "Dh2FEtSjJfeq"
      },
      "source": [
        "g=df['Company Name'].apply(lambda x:print(x) if '\\n' in x else print(\"No\"))\n",
        "g\n",
        "\n",
        "\n",
        "df[['Company Name']]"
      ],
      "execution_count": null,
      "outputs": []
    },
    {
      "cell_type": "code",
      "metadata": {
        "id": "TVct4JpeHjvD"
      },
      "source": [
        "#making a new col containgin the text from company name only :\n",
        "\n",
        "df['company_name_text'] = df['Company Name'].apply(lambda x : x.split(\"\\n\"))\n",
        "\n"
      ],
      "execution_count": 19,
      "outputs": []
    },
    {
      "cell_type": "code",
      "metadata": {
        "id": "HOzQezhnZUhO"
      },
      "source": [
        "#a new col for the company age ::\n",
        "df['company_age']=df['Founded'].apply( lambda x :x if x <1 else  pd.datetime.now().year-x)\n",
        "\n"
      ],
      "execution_count": null,
      "outputs": []
    },
    {
      "cell_type": "code",
      "metadata": {
        "id": "9hxgCeCuapOs"
      },
      "source": [
        "# a new col if the company headquarter and location in the same state::::::::::\n",
        "df['same_state'] = df.apply(lambda x: 1 if x.Location == x.Headquarters else 0, axis = 1)\n",
        " \n"
      ],
      "execution_count": 62,
      "outputs": []
    },
    {
      "cell_type": "code",
      "metadata": {
        "id": "NEOHYzSQmIcR"
      },
      "source": [
        "remove_to = df['Revenue'].apply(lambda x: x.replace('to','-'))\n"
      ],
      "execution_count": 66,
      "outputs": []
    },
    {
      "cell_type": "code",
      "metadata": {
        "id": "XPZjHri-rS5V"
      },
      "source": [
        "#manupulation practice ::\n",
        "\n",
        "remove_dolar=remove_to.apply(lambda x : x.replace('$', ''))\n",
        "remove_dolar"
      ],
      "execution_count": null,
      "outputs": []
    },
    {
      "cell_type": "code",
      "metadata": {
        "id": "G-xxYOxWuI7s"
      },
      "source": [
        "#make a new col if the job has python in the job description ::\n",
        "#python related jobs :\n",
        "df['python_jobs']=df['Job Description'].apply(lambda x : 1 if 'python' in x.lower() else 0)\n",
        "\n",
        "\n",
        "df.python_jobs.value_counts()"
      ],
      "execution_count": null,
      "outputs": []
    },
    {
      "cell_type": "code",
      "metadata": {
        "id": "CW3rxNhD0yIF"
      },
      "source": [
        "#make a col if the job description has AI  in it ::\n",
        "df['ai_jobs']=df['Job Description'].apply(lambda x: 1 if 'artificial intelligence' in x.lower() else 0)\n",
        "df.ai_jobs.value_counts()"
      ],
      "execution_count": null,
      "outputs": []
    },
    {
      "cell_type": "code",
      "metadata": {
        "id": "XUyg3e2x2ihu"
      },
      "source": [
        "#if there is a bachelor degree is needed ::\n",
        "df['Bachelor_degree'] = df['Job Description'].apply(lambda x : 1 if 'bachelor’s degree' in x.lower() else 0)\n",
        "batch.value_counts()"
      ],
      "execution_count": null,
      "outputs": []
    },
    {
      "cell_type": "code",
      "metadata": {
        "id": "LK4Zr5KV2NOu"
      },
      "source": [
        "df.columns\n",
        "\n",
        "\n",
        "\n",
        "df_out = df.drop(['Unnamed: 0'], axis =1)\n",
        "\n",
        "df_out.to_csv('salary_data_cleaned.csv',index = False)\n",
        "\n",
        "\n"
      ],
      "execution_count": 104,
      "outputs": []
    },
    {
      "cell_type": "code",
      "metadata": {
        "colab": {
          "base_uri": "https://localhost:8080/",
          "height": 510
        },
        "id": "wb2Rh1td5Y-v",
        "outputId": "dce4467d-b94a-4950-a0ac-2b197f84f1a5"
      },
      "source": [
        "df_out.head()"
      ],
      "execution_count": 105,
      "outputs": [
        {
          "output_type": "execute_result",
          "data": {
            "text/html": [
              "<div>\n",
              "<style scoped>\n",
              "    .dataframe tbody tr th:only-of-type {\n",
              "        vertical-align: middle;\n",
              "    }\n",
              "\n",
              "    .dataframe tbody tr th {\n",
              "        vertical-align: top;\n",
              "    }\n",
              "\n",
              "    .dataframe thead th {\n",
              "        text-align: right;\n",
              "    }\n",
              "</style>\n",
              "<table border=\"1\" class=\"dataframe\">\n",
              "  <thead>\n",
              "    <tr style=\"text-align: right;\">\n",
              "      <th></th>\n",
              "      <th>Job Title</th>\n",
              "      <th>Salary Estimate</th>\n",
              "      <th>Job Description</th>\n",
              "      <th>Rating</th>\n",
              "      <th>Company Name</th>\n",
              "      <th>Location</th>\n",
              "      <th>Headquarters</th>\n",
              "      <th>Size</th>\n",
              "      <th>Founded</th>\n",
              "      <th>Type of ownership</th>\n",
              "      <th>Industry</th>\n",
              "      <th>Sector</th>\n",
              "      <th>Revenue</th>\n",
              "      <th>Competitors</th>\n",
              "      <th>min_salary</th>\n",
              "      <th>max_salary</th>\n",
              "      <th>avg_salary</th>\n",
              "      <th>job_state</th>\n",
              "      <th>Hourly</th>\n",
              "      <th>employer provided</th>\n",
              "      <th>company_name_text</th>\n",
              "      <th>company_age</th>\n",
              "      <th>same_state</th>\n",
              "      <th>python_jobs</th>\n",
              "      <th>ai_jobs</th>\n",
              "    </tr>\n",
              "  </thead>\n",
              "  <tbody>\n",
              "    <tr>\n",
              "      <th>0</th>\n",
              "      <td>Data Scientist</td>\n",
              "      <td>$53K-$91K (Glassdoor est.)</td>\n",
              "      <td>Data Scientist\\nLocation: Albuquerque, NM\\nEdu...</td>\n",
              "      <td>3.8</td>\n",
              "      <td>Tecolote Research\\n3.8</td>\n",
              "      <td>Albuquerque, NM</td>\n",
              "      <td>Goleta, CA</td>\n",
              "      <td>501 to 1000 employees</td>\n",
              "      <td>1973</td>\n",
              "      <td>Company - Private</td>\n",
              "      <td>Aerospace &amp; Defense</td>\n",
              "      <td>Aerospace &amp; Defense</td>\n",
              "      <td>$50 to $100 million (USD)</td>\n",
              "      <td>-1</td>\n",
              "      <td>53</td>\n",
              "      <td>91</td>\n",
              "      <td>72.0</td>\n",
              "      <td>NM</td>\n",
              "      <td>0</td>\n",
              "      <td>0</td>\n",
              "      <td>[Tecolote Research, 3.8]</td>\n",
              "      <td>48</td>\n",
              "      <td>0</td>\n",
              "      <td>1</td>\n",
              "      <td>1</td>\n",
              "    </tr>\n",
              "    <tr>\n",
              "      <th>1</th>\n",
              "      <td>Healthcare Data Scientist</td>\n",
              "      <td>$63K-$112K (Glassdoor est.)</td>\n",
              "      <td>What You Will Do:\\n\\nI. General Summary\\n\\nThe...</td>\n",
              "      <td>3.4</td>\n",
              "      <td>University of Maryland Medical System\\n3.4</td>\n",
              "      <td>Linthicum, MD</td>\n",
              "      <td>Baltimore, MD</td>\n",
              "      <td>10000+ employees</td>\n",
              "      <td>1984</td>\n",
              "      <td>Other Organization</td>\n",
              "      <td>Health Care Services &amp; Hospitals</td>\n",
              "      <td>Health Care</td>\n",
              "      <td>$2 to $5 billion (USD)</td>\n",
              "      <td>-1</td>\n",
              "      <td>63</td>\n",
              "      <td>112</td>\n",
              "      <td>87.5</td>\n",
              "      <td>MD</td>\n",
              "      <td>0</td>\n",
              "      <td>0</td>\n",
              "      <td>[University of Maryland Medical System, 3.4]</td>\n",
              "      <td>37</td>\n",
              "      <td>0</td>\n",
              "      <td>1</td>\n",
              "      <td>0</td>\n",
              "    </tr>\n",
              "    <tr>\n",
              "      <th>2</th>\n",
              "      <td>Data Scientist</td>\n",
              "      <td>$80K-$90K (Glassdoor est.)</td>\n",
              "      <td>KnowBe4, Inc. is a high growth information sec...</td>\n",
              "      <td>4.8</td>\n",
              "      <td>KnowBe4\\n4.8</td>\n",
              "      <td>Clearwater, FL</td>\n",
              "      <td>Clearwater, FL</td>\n",
              "      <td>501 to 1000 employees</td>\n",
              "      <td>2010</td>\n",
              "      <td>Company - Private</td>\n",
              "      <td>Security Services</td>\n",
              "      <td>Business Services</td>\n",
              "      <td>$100 to $500 million (USD)</td>\n",
              "      <td>-1</td>\n",
              "      <td>80</td>\n",
              "      <td>90</td>\n",
              "      <td>85.0</td>\n",
              "      <td>FL</td>\n",
              "      <td>0</td>\n",
              "      <td>0</td>\n",
              "      <td>[KnowBe4, 4.8]</td>\n",
              "      <td>11</td>\n",
              "      <td>1</td>\n",
              "      <td>1</td>\n",
              "      <td>0</td>\n",
              "    </tr>\n",
              "    <tr>\n",
              "      <th>3</th>\n",
              "      <td>Data Scientist</td>\n",
              "      <td>$56K-$97K (Glassdoor est.)</td>\n",
              "      <td>*Organization and Job ID**\\nJob ID: 310709\\n\\n...</td>\n",
              "      <td>3.8</td>\n",
              "      <td>PNNL\\n3.8</td>\n",
              "      <td>Richland, WA</td>\n",
              "      <td>Richland, WA</td>\n",
              "      <td>1001 to 5000 employees</td>\n",
              "      <td>1965</td>\n",
              "      <td>Government</td>\n",
              "      <td>Energy</td>\n",
              "      <td>Oil, Gas, Energy &amp; Utilities</td>\n",
              "      <td>$500 million to $1 billion (USD)</td>\n",
              "      <td>Oak Ridge National Laboratory, National Renewa...</td>\n",
              "      <td>56</td>\n",
              "      <td>97</td>\n",
              "      <td>76.5</td>\n",
              "      <td>WA</td>\n",
              "      <td>0</td>\n",
              "      <td>0</td>\n",
              "      <td>[PNNL, 3.8]</td>\n",
              "      <td>56</td>\n",
              "      <td>1</td>\n",
              "      <td>1</td>\n",
              "      <td>0</td>\n",
              "    </tr>\n",
              "    <tr>\n",
              "      <th>4</th>\n",
              "      <td>Data Scientist</td>\n",
              "      <td>$86K-$143K (Glassdoor est.)</td>\n",
              "      <td>Data Scientist\\nAffinity Solutions / Marketing...</td>\n",
              "      <td>2.9</td>\n",
              "      <td>Affinity Solutions\\n2.9</td>\n",
              "      <td>New York, NY</td>\n",
              "      <td>New York, NY</td>\n",
              "      <td>51 to 200 employees</td>\n",
              "      <td>1998</td>\n",
              "      <td>Company - Private</td>\n",
              "      <td>Advertising &amp; Marketing</td>\n",
              "      <td>Business Services</td>\n",
              "      <td>Unknown / Non-Applicable</td>\n",
              "      <td>Commerce Signals, Cardlytics, Yodlee</td>\n",
              "      <td>86</td>\n",
              "      <td>143</td>\n",
              "      <td>114.5</td>\n",
              "      <td>NY</td>\n",
              "      <td>0</td>\n",
              "      <td>0</td>\n",
              "      <td>[Affinity Solutions, 2.9]</td>\n",
              "      <td>23</td>\n",
              "      <td>1</td>\n",
              "      <td>1</td>\n",
              "      <td>0</td>\n",
              "    </tr>\n",
              "  </tbody>\n",
              "</table>\n",
              "</div>"
            ],
            "text/plain": [
              "                   Job Title              Salary Estimate  ... python_jobs  ai_jobs\n",
              "0             Data Scientist   $53K-$91K (Glassdoor est.)  ...           1        1\n",
              "1  Healthcare Data Scientist  $63K-$112K (Glassdoor est.)  ...           1        0\n",
              "2             Data Scientist   $80K-$90K (Glassdoor est.)  ...           1        0\n",
              "3             Data Scientist   $56K-$97K (Glassdoor est.)  ...           1        0\n",
              "4             Data Scientist  $86K-$143K (Glassdoor est.)  ...           1        0\n",
              "\n",
              "[5 rows x 25 columns]"
            ]
          },
          "metadata": {
            "tags": []
          },
          "execution_count": 105
        }
      ]
    }
  ]
}